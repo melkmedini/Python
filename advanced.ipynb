{
 "cells": [
  {
   "attachments": {},
   "cell_type": "markdown",
   "metadata": {},
   "source": [
    "### Magic methods and dunder\n"
   ]
  },
  {
   "cell_type": "code",
   "execution_count": null,
   "metadata": {},
   "outputs": [],
   "source": [
    "class Person:\n",
    "    def __init__(self,name,age):\n",
    "        self.name= name \n",
    "        self.age= age\n",
    "    \n",
    "    #def __del__(self):\n",
    "        #print(\"Person is no more\")\n",
    "    \n",
    "    \n",
    "\n",
    "p= Person(\"luke\",24)\n"
   ]
  },
  {
   "cell_type": "code",
   "execution_count": null,
   "metadata": {},
   "outputs": [],
   "source": [
    "class Vector ():\n",
    "    def __init__(self,x,y) :\n",
    "        self.x=x\n",
    "        self.y=y \n",
    "\n",
    "    def __add__(self,other):\n",
    "        return Vector(self.x + other.x,self.y + other.y)    \n",
    "\n",
    "    def __repr__(self) -> str:\n",
    "        return f\"X: {self.x}, Y: {self.y}\"\n",
    "    \n",
    "    def __len__(self):\n",
    "        pass\n",
    "\n",
    "    def __call__(self):\n",
    "        print(\"hello \")\n",
    "v=Vector(10,5)\n",
    "v2=Vector(5,7)\n",
    "print(v + v2)"
   ]
  },
  {
   "attachments": {},
   "cell_type": "markdown",
   "metadata": {},
   "source": [
    "### Decorators"
   ]
  },
  {
   "cell_type": "code",
   "execution_count": null,
   "metadata": {},
   "outputs": [],
   "source": [
    "def mydecorator(function):\n",
    "    def wrapper(*args, **kwargs): # \n",
    "        print(\"am decorating you \")\n",
    "        return function(*args, **kwargs)\n",
    "    return wrapper\n",
    "        \n",
    "@mydecorator\n",
    "def hello_world(person):\n",
    "    return f\"Hello {person} !\"\n",
    "\n",
    "print(hello_world(\"luke\")) \n",
    "#mydecorator(hello_world)()"
   ]
  },
  {
   "attachments": {},
   "cell_type": "markdown",
   "metadata": {},
   "source": [
    "logging"
   ]
  },
  {
   "cell_type": "code",
   "execution_count": null,
   "metadata": {},
   "outputs": [],
   "source": [
    "def logged(function):\n",
    "    def wrapper(*args, **kwargs):\n",
    "        value= function(*args,**kwargs)\n",
    "        with open('logfile.txt','a+') as f:\n",
    "            fname = function.__name__\n",
    "            f.write(f\"{fname} reterned value {value}\")\n",
    "        return value\n",
    "    return wrapper\n",
    "\n",
    "@logged\n",
    "def add (x,y):\n",
    "    return x+y\n",
    "\n",
    "print(add(3,5))\n"
   ]
  },
  {
   "attachments": {},
   "cell_type": "markdown",
   "metadata": {},
   "source": [
    "Timing"
   ]
  },
  {
   "cell_type": "code",
   "execution_count": null,
   "metadata": {},
   "outputs": [],
   "source": [
    "import time\n",
    "\n",
    "def timed(function):\n",
    "    def wrapper(*args, **kwargs):\n",
    "        before = time.time()\n",
    "        value= function(*args, **kwargs)\n",
    "        after = time.time()\n",
    "        fname= function.__name__\n",
    "        print(f\"{fname} took {after-before} seconds \")\n",
    "        return value\n",
    "    return wrapper\n",
    "\n",
    "\n",
    "@timed\n",
    "def myfunction(x):\n",
    "    result = 1\n",
    "    for i in range(1,x):\n",
    "        result *=i\n",
    "    return result\n",
    "    \n",
    "myfunction(100)\n"
   ]
  },
  {
   "attachments": {},
   "cell_type": "markdown",
   "metadata": {},
   "source": [
    "### Generators"
   ]
  },
  {
   "cell_type": "code",
   "execution_count": null,
   "metadata": {},
   "outputs": [],
   "source": [
    "# seq from 1 to 90000000\n",
    "\n",
    "def mygenerator(n):\n",
    "    for x in range(n):\n",
    "        yield x**3\n",
    "\n",
    "values=mygenerator(100)\n",
    "\n",
    "for x in values :\n",
    "    print(x)"
   ]
  },
  {
   "cell_type": "code",
   "execution_count": null,
   "metadata": {},
   "outputs": [],
   "source": [
    "def infinite_seq():\n",
    "    result = 1\n",
    "    while True:\n",
    "        yield result\n",
    "        result *= 5\n",
    "\n",
    "values =infinite_seq()\n",
    "\n",
    "print(next(values))"
   ]
  },
  {
   "attachments": {},
   "cell_type": "markdown",
   "metadata": {},
   "source": [
    "### Argumenet Parsing"
   ]
  },
  {
   "cell_type": "code",
   "execution_count": null,
   "metadata": {},
   "outputs": [],
   "source": [
    "import sys\n",
    "import getopt \n",
    "print(sys.argv)\n",
    "print(sys.argv[1])"
   ]
  },
  {
   "cell_type": "code",
   "execution_count": null,
   "metadata": {},
   "outputs": [],
   "source": [
    "# Usage main.py FILENAME -p\n",
    "\n",
    "filename= sys.argv[1]\n",
    "message=sys.argv[2]\n",
    "with open(filename,\"w+\") as f:\n",
    "    f.write(message)"
   ]
  },
  {
   "cell_type": "code",
   "execution_count": null,
   "metadata": {},
   "outputs": [],
   "source": [
    "import sys\n",
    "import getopt\n",
    "opts, args = getopt.getopt(sys.argv[1:],\"f:m:\", ['filename','message'])\n",
    "\n",
    "for opt , arg in opts :\n",
    "    if opt == \"-f\":\n",
    "        filename = arg\n",
    "    if opt == '-m':\n",
    "        message = arg \n",
    "\n",
    "with open(filename, 'w+') as f:\n",
    "    f.write(message)\n",
    "\n",
    "\n",
    "\n",
    "\n",
    "\n",
    "#print(opts)\n",
    "#print(args)\n",
    "\n"
   ]
  },
  {
   "attachments": {},
   "cell_type": "markdown",
   "metadata": {},
   "source": [
    "### Encapsulation"
   ]
  },
  {
   "cell_type": "code",
   "execution_count": null,
   "metadata": {},
   "outputs": [],
   "source": [
    "class Person():\n",
    "    def __init__(self,name,age, gender):\n",
    "        self.__name= name\n",
    "        self.__age = age\n",
    "        self.__gender= gender\n",
    "    \n",
    "    @property  #getter\n",
    "    def Name(self):\n",
    "        return self.__name\n",
    "    \n",
    "    @Name.setter #setter\n",
    "    def Name(self,value):\n",
    "        self.__name= value\n",
    "\n",
    "    @staticmethod\n",
    "    def mymethod():\n",
    "        \n",
    "\n",
    "p1 = Person('scot',27,'male')\n",
    "print(p1.Name)"
   ]
  },
  {
   "attachments": {},
   "cell_type": "markdown",
   "metadata": {},
   "source": [
    "### type hinting"
   ]
  },
  {
   "cell_type": "code",
   "execution_count": null,
   "metadata": {},
   "outputs": [],
   "source": [
    "def myfunction(myparam:int)-> str:\n",
    "    return f\"{myparam + 10 }\"\n",
    "\n",
    "def otherfun(otherparm:str):\n",
    "    print(otherparm)\n",
    "\n",
    "#myfunction(10)\n",
    "\n",
    "def listhint(param : list[int]): # the list items are int type\n",
    "    pass\n"
   ]
  },
  {
   "attachments": {},
   "cell_type": "markdown",
   "metadata": {},
   "source": [
    "### factory design pattern"
   ]
  },
  {
   "cell_type": "code",
   "execution_count": null,
   "metadata": {},
   "outputs": [],
   "source": [
    "from abc import ABCMeta , abstractstaticmethod\n",
    "\n",
    "class IPerson(metaclass = ABCMeta):\n",
    "    @abstractstaticmethod\n",
    "    def person_method():\n",
    "        \"\"\"\n",
    "        interface method\n",
    "        \"\"\"\n",
    "\n",
    "class Student(IPerson):\n",
    "    def __init__(self) :\n",
    "        self.name= \"student name\"\n",
    "\n",
    "    def person_method(self):\n",
    "        super().person_method()\n",
    "        print(\"i m a student\")\n",
    "\n",
    "class Teacher(IPerson):\n",
    "    def __init__(self):\n",
    "        self.name= \" Teacher name\" \n",
    "\n",
    "    def person_method(self):\n",
    "        super().person_method()\n",
    "        print('im a teacher')   \n",
    "    \n",
    "\n",
    "class PersonFactory:\n",
    "    \n",
    "    @staticmethod\n",
    "    def build_person(person_type):\n",
    "        if person_type==\"Student\":\n",
    "            return Student()\n",
    "        if person_type==\"Teacher\":\n",
    "            return Teacher()\n",
    "        print(\"Invalid Type\")\n",
    "        return -1\n",
    "\n",
    "if __name__==\"__main__\":\n",
    "    choice= input(\"xhat type is \")\n",
    "    person =PersonFactory.build_person(choice)\n",
    "    person.person_method()"
   ]
  },
  {
   "attachments": {},
   "cell_type": "markdown",
   "metadata": {},
   "source": [
    "### Proxy design pattern"
   ]
  },
  {
   "cell_type": "code",
   "execution_count": null,
   "metadata": {},
   "outputs": [],
   "source": [
    "from abc import ABCMeta ,abstractstaticmethod\n",
    "\n",
    "class IPerson(metaclass = ABCMeta):\n",
    "    @abstractstaticmethod\n",
    "    def person_method():\n",
    "        \"\"\"\n",
    "        interface method\n",
    "        \"\"\"\n",
    "class Person(IPerson):\n",
    "    def person_method(self):\n",
    "        print(\"Im a person\")\n",
    "\n",
    "\n",
    "class ProxyPerson(IPerson):\n",
    "    def __init__(self):\n",
    "        self.person= Person()\n",
    "\n",
    "    def person_method(self):\n",
    "        print('im a proxy func')\n",
    "        self.person.person_method()\n",
    "\n",
    "p1=Person()\n",
    "p1.person_method()\n",
    "\n",
    "p2=ProxyPerson()\n",
    "p2.person_method()\n",
    "\n"
   ]
  },
  {
   "attachments": {},
   "cell_type": "markdown",
   "metadata": {},
   "source": [
    "### Singleton Design Pattern"
   ]
  },
  {
   "cell_type": "code",
   "execution_count": null,
   "metadata": {},
   "outputs": [],
   "source": [
    "from abc import ABCMeta , abstractstaticmethod\n",
    "\n",
    "class IPerson(metaclass = ABCMeta):\n",
    "    @abstractstaticmethod\n",
    "    def print_data():\n",
    "        \"\"\" implement in the child class\"\"\"\n",
    "    \n",
    "class PersonSingleton(IPerson):\n",
    "    __instance = None\n",
    "    \n",
    "    @staticmethod\n",
    "    def get_instance():\n",
    "        if PersonSingleton.__instance == None :\n",
    "            PersonSingleton(\"Default Name\",27)\n",
    "        return PersonSingleton.__instance\n",
    "    \n",
    "    def __init__(self,name,age):\n",
    "        if PersonSingleton.__instance != None:\n",
    "            raise Exception(\"Singleton cannot be instantiated more than one \")\n",
    "        else:\n",
    "            self.name = name\n",
    "            self.age = age\n",
    "            PersonSingleton.__instance =self \n",
    "\n",
    "    @staticmethod\n",
    "    def print_data():\n",
    "        print(f\"Name : {PersonSingleton.__instance.name} Age {PersonSingleton.__instance.age}\")\n",
    "\n",
    "\n",
    "p =PersonSingleton(\"luka\",27)\n",
    "print(p)\n",
    "p.print_data()"
   ]
  },
  {
   "attachments": {},
   "cell_type": "markdown",
   "metadata": {},
   "source": [
    "### Composite design Pattern"
   ]
  },
  {
   "cell_type": "code",
   "execution_count": 4,
   "metadata": {},
   "outputs": [
    {
     "name": "stdout",
     "output_type": "stream",
     "text": [
      "Parent dep\n",
      "Parent dep Base employyes: 50\n",
      "accounting department : 200\n",
      "secops department : 150\n",
      "total number of employyes : 400\n"
     ]
    }
   ],
   "source": [
    "from abc import ABCMeta , abstractmethod , abstractstaticmethod\n",
    "\n",
    "class IDepartment(metaclass= ABCMeta):\n",
    "    @abstractmethod\n",
    "    def __init__(self) :\n",
    "        \"\"\" implement in child\"\"\"\n",
    "\n",
    "    @abstractstaticmethod\n",
    "    def print_department():\n",
    "        \"\"\" implement in thechild class\"\"\"\n",
    "\n",
    "class Accounting(IDepartment):\n",
    "        def __init__(self,employees):\n",
    "            self.employees = employees\n",
    "        def print_department(self):\n",
    "            print(f\"accounting department : {self.employees}\")\n",
    "\n",
    "class Secops(IDepartment):\n",
    "        def __init__(self,employees):\n",
    "            self.employees = employees\n",
    "        def print_department(self):\n",
    "            print(f\"secops department : {self.employees}\")\n",
    "    \n",
    "\n",
    "class ParentDep(IDepartment):\n",
    "\n",
    "        def __init__(self,employees):\n",
    "            self.employees = employees\n",
    "            self.base_employees = employees\n",
    "            self.sub_depts= []\n",
    "        \n",
    "        def add(self,dept):\n",
    "            self.sub_depts.append(dept)\n",
    "            self.employees += dept.employees\n",
    "\n",
    "        def print_department(self):\n",
    "            print(\"Parent dep\")\n",
    "            print(f\"Parent dep Base employyes: {self.base_employees}\")\n",
    "            for dept in self.sub_depts:\n",
    "                dept.print_department()\n",
    "            print(f\"total number of employyes : {self.employees}\")\n",
    "\n",
    "dept1= Accounting(200)\n",
    "dept2= Secops(150) \n",
    "parent_dep = ParentDep(50)\n",
    "parent_dep.add(dept1)\n",
    "parent_dep.add(dept2)\n",
    "\n",
    "parent_dep.print_department()\n",
    "\n"
   ]
  }
 ],
 "metadata": {
  "kernelspec": {
   "display_name": "base",
   "language": "python",
   "name": "python3"
  },
  "language_info": {
   "codemirror_mode": {
    "name": "ipython",
    "version": 3
   },
   "file_extension": ".py",
   "mimetype": "text/x-python",
   "name": "python",
   "nbconvert_exporter": "python",
   "pygments_lexer": "ipython3",
   "version": "3.9.7"
  },
  "orig_nbformat": 4
 },
 "nbformat": 4,
 "nbformat_minor": 2
}
